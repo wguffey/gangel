{
 "cells": [
  {
   "cell_type": "code",
   "execution_count": null,
   "metadata": {},
   "outputs": [],
   "source": [
    "import tweepy\n",
    "import json\n",
    "from dotenv import dotenv_values\n",
    "\n",
    "config = dotenv_values(\".env\")\n",
    "\n",
    "# Authenticate with the X API v2\n",
    "client = tweepy.Client(\n",
    "    bearer_token=config[\"X_BEARER_TOKEN\"],\n",
    "    consumer_key=config[\"X_CONSUMER_KEY\"],\n",
    "    consumer_secret=config[\"X_CONSUMER_SECRET\"],\n",
    "    access_token=config[\"X_ACCESS_TOKEN\"],\n",
    "    access_token_secret=config[\"X_ACCESS_TOKEN_SECRET\"],\n",
    ")\n",
    "\n",
    "# Fetch the home timeline (up to 100 tweets)\n",
    "# The 'max_results' parameter can be set from 5 to 100\n",
    "response = client.get_home_timeline(max_results=100)\n",
    "\n",
    "# Check if the request was successful\n",
    "if response.data:\n",
    "    tweets = [tweet.data for tweet in response.data]\n",
    "\n",
    "    # Save the tweets to a local JSON file\n",
    "    with open('home_timeline.json', 'w', encoding='utf-8') as f:\n",
    "        json.dump(tweets, f, ensure_ascii=False, indent=4)\n",
    "\n",
    "    print(f'Successfully saved {len(tweets)} tweets to home_timeline.json')\n",
    "else:\n",
    "    print('Could not fetch tweets. Please check your credentials and API access.')\n",
    "    print(f'API Errors: {response.errors}')"
   ]
  },
  {
   "cell_type": "code",
   "execution_count": null,
   "metadata": {},
   "outputs": [],
   "source": []
  }
 ],
 "metadata": {
  "language_info": {
   "name": "python"
  }
 },
 "nbformat": 4,
 "nbformat_minor": 2
}
